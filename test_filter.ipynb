{
 "cells": [
  {
   "cell_type": "code",
   "execution_count": 43,
   "metadata": {},
   "outputs": [
    {
     "name": "stdout",
     "output_type": "stream",
     "text": [
      "Requirement already satisfied: coveralls in c:\\users\\thier\\appdata\\local\\packages\\pythonsoftwarefoundation.python.3.9_qbz5n2kfra8p0\\localcache\\local-packages\\python39\\site-packages (3.3.1)\n",
      "Requirement already satisfied: requests>=1.0.0 in c:\\users\\thier\\appdata\\local\\packages\\pythonsoftwarefoundation.python.3.9_qbz5n2kfra8p0\\localcache\\local-packages\\python39\\site-packages (from coveralls) (2.28.1)\n",
      "Requirement already satisfied: coverage!=6.0.*,!=6.1,!=6.1.1,<7.0,>=4.1 in c:\\users\\thier\\appdata\\local\\packages\\pythonsoftwarefoundation.python.3.9_qbz5n2kfra8p0\\localcache\\local-packages\\python39\\site-packages (from coveralls) (6.5.0)\n",
      "Requirement already satisfied: docopt>=0.6.1 in c:\\users\\thier\\appdata\\local\\packages\\pythonsoftwarefoundation.python.3.9_qbz5n2kfra8p0\\localcache\\local-packages\\python39\\site-packages (from coveralls) (0.6.2)\n",
      "Requirement already satisfied: certifi>=2017.4.17 in c:\\users\\thier\\appdata\\local\\packages\\pythonsoftwarefoundation.python.3.9_qbz5n2kfra8p0\\localcache\\local-packages\\python39\\site-packages (from requests>=1.0.0->coveralls) (2022.9.24)\n",
      "Requirement already satisfied: idna<4,>=2.5 in c:\\users\\thier\\appdata\\local\\packages\\pythonsoftwarefoundation.python.3.9_qbz5n2kfra8p0\\localcache\\local-packages\\python39\\site-packages (from requests>=1.0.0->coveralls) (3.4)\n",
      "Requirement already satisfied: urllib3<1.27,>=1.21.1 in c:\\users\\thier\\appdata\\local\\packages\\pythonsoftwarefoundation.python.3.9_qbz5n2kfra8p0\\localcache\\local-packages\\python39\\site-packages (from requests>=1.0.0->coveralls) (1.26.12)\n",
      "Requirement already satisfied: charset-normalizer<3,>=2 in c:\\users\\thier\\appdata\\local\\packages\\pythonsoftwarefoundation.python.3.9_qbz5n2kfra8p0\\localcache\\local-packages\\python39\\site-packages (from requests>=1.0.0->coveralls) (2.1.1)\n"
     ]
    },
    {
     "name": "stderr",
     "output_type": "stream",
     "text": [
      "\n",
      "[notice] A new release of pip available: 22.3.1 -> 23.3\n",
      "[notice] To update, run: C:\\Users\\thier\\AppData\\Local\\Microsoft\\WindowsApps\\PythonSoftwareFoundation.Python.3.9_qbz5n2kfra8p0\\python.exe -m pip install --upgrade pip\n"
     ]
    }
   ],
   "source": [
    "#!pip install coverage\n",
    "!pip install coveralls"
   ]
  },
  {
   "cell_type": "code",
   "execution_count": 44,
   "metadata": {},
   "outputs": [
    {
     "name": "stdout",
     "output_type": "stream",
     "text": [
      "============================= test session starts =============================\n",
      "platform win32 -- Python 3.9.13, pytest-7.4.2, pluggy-1.3.0\n",
      "rootdir: c:\\Users\\thier\\TCC\n",
      "plugins: cov-4.1.0, typeguard-3.0.2\n",
      "collected 2 items\n",
      "\n",
      "tests\\tests1.py ..                                                       [100%]\n",
      "\n",
      "============================== 2 passed in 0.05s ==============================\n"
     ]
    }
   ],
   "source": [
    "#!coverage run -m pytest tests/tests1.py\n",
    "#!coverage xml\n",
    "!coverage run -m pytest tests/tests1.py\n"
   ]
  },
  {
   "cell_type": "code",
   "execution_count": 45,
   "metadata": {},
   "outputs": [
    {
     "name": "stderr",
     "output_type": "stream",
     "text": [
      "Submitting coverage to coveralls.io...\n",
      "Coverage submitted!\n",
      "Job ##5.1\n",
      "https://coveralls.io/jobs/130231511\n"
     ]
    }
   ],
   "source": [
    "import os\n",
    "\n",
    "# Set the COVERALLS_REPO_TOKEN environment variable\n",
    "os.environ['COVERALLS_REPO_TOKEN'] = '9Awq8OHVznVsnXg18mYYxzgSlwISgPujF'\n",
    "\n",
    "!coveralls"
   ]
  },
  {
   "cell_type": "code",
   "execution_count": 46,
   "metadata": {},
   "outputs": [
    {
     "name": "stdout",
     "output_type": "stream",
     "text": [
      "Line 8: Hits 1\n",
      "Line 9: Hits 1\n",
      "Line 10: Hits 1\n",
      "Line 11: Hits 1\n",
      "Line 12: Hits 1\n",
      "Line 13: Hits 1\n",
      "Line 14: Hits 1\n",
      "Line 15: Hits 1\n"
     ]
    }
   ],
   "source": [
    "import xml.etree.ElementTree as ET\n",
    "\n",
    "# Parse the XML file\n",
    "tree = ET.parse('coverage.xml')  # Replace 'your_coverage.xml' with the actual file path\n",
    "\n",
    "# Find the class with the name \"problem_solution.py\"\n",
    "target_class_name = \"problem_solution.py\"\n",
    "root = tree.getroot()\n",
    "classes = root.findall(\".//class\")\n",
    "target_class = None\n",
    "\n",
    "for class_element in classes:\n",
    "    if class_element.get(\"name\") == target_class_name:\n",
    "        target_class = class_element\n",
    "        break\n",
    "\n",
    "if target_class is not None:\n",
    "    # Find the lines section within the target class\n",
    "    lines_section = target_class.find(\"lines\")\n",
    "    \n",
    "    if lines_section is not None:\n",
    "        # Extract line information\n",
    "        lines = lines_section.findall(\"line\")\n",
    "        \n",
    "        for line in lines:\n",
    "            line_number = line.get(\"number\")\n",
    "            hits = line.get(\"hits\")\n",
    "            print(f\"Line {line_number}: Hits {hits}\")\n",
    "    else:\n",
    "        print(f\"No 'lines' section found in class '{target_class_name}'\")\n",
    "else:\n",
    "    print(f\"Class '{target_class_name}' not found in the XML file.\")"
   ]
  }
 ],
 "metadata": {
  "kernelspec": {
   "display_name": "Python 3",
   "language": "python",
   "name": "python3"
  },
  "language_info": {
   "codemirror_mode": {
    "name": "ipython",
    "version": 3
   },
   "file_extension": ".py",
   "mimetype": "text/x-python",
   "name": "python",
   "nbconvert_exporter": "python",
   "pygments_lexer": "ipython3",
   "version": "3.9.13"
  }
 },
 "nbformat": 4,
 "nbformat_minor": 2
}
