{
 "cells": [
  {
   "cell_type": "markdown",
   "metadata": {},
   "source": [
    "Crosshair: https://crosshair.readthedocs.io/en/latest/cover.html"
   ]
  },
  {
   "cell_type": "code",
   "execution_count": 1,
   "metadata": {},
   "outputs": [],
   "source": [
    "#pip install crosshair-tool\n",
    "#!pip install tqdm"
   ]
  },
  {
   "cell_type": "code",
   "execution_count": 2,
   "metadata": {},
   "outputs": [],
   "source": [
    "result = !crosshair cover foo.average"
   ]
  },
  {
   "cell_type": "code",
   "execution_count": 3,
   "metadata": {},
   "outputs": [
    {
     "name": "stdout",
     "output_type": "stream",
     "text": [
      "average([0.0, 0.0], default = None)\n",
      "average([], default = None)\n",
      "average([], default = 0.0)\n"
     ]
    }
   ],
   "source": [
    "for line in result:\n",
    "    print(line)"
   ]
  },
  {
   "cell_type": "code",
   "execution_count": 4,
   "metadata": {},
   "outputs": [],
   "source": [
    "result = !crosshair cover --example_output_format=pytest foo.average"
   ]
  },
  {
   "cell_type": "code",
   "execution_count": 5,
   "metadata": {},
   "outputs": [
    {
     "name": "stdout",
     "output_type": "stream",
     "text": [
      "import pytest\n",
      "from foo import average\n",
      "\n",
      "def test_average():\n",
      "    assert average([0.0, 0.0], default = None) == 0.0\n",
      "\n",
      "def test_average_2():\n",
      "    with pytest.raises(ValueError):\n",
      "        average([], default = None)\n",
      "\n",
      "def test_average_3():\n",
      "    assert average([], default = 0.0) == 0.0\n",
      "\n"
     ]
    }
   ],
   "source": [
    "for line in result:\n",
    "    print(line)"
   ]
  },
  {
   "cell_type": "code",
   "execution_count": 6,
   "metadata": {},
   "outputs": [],
   "source": [
    "#!python3 depickle_problems.py"
   ]
  },
  {
   "cell_type": "code",
   "execution_count": 7,
   "metadata": {},
   "outputs": [],
   "source": [
    "#!python3 depickle_solutions.py"
   ]
  },
  {
   "cell_type": "code",
   "execution_count": 8,
   "metadata": {},
   "outputs": [
    {
     "name": "stdout",
     "output_type": "stream",
     "text": [
      "from solucao import concatenacao\n",
      "\n",
      "def test_concatenacao():\n",
      "    assert concatenacao('', 0) == '00'\n",
      "\n"
     ]
    }
   ],
   "source": [
    "!crosshair cover --example_output_format=pytest solucao.concatenacao"
   ]
  },
  {
   "cell_type": "code",
   "execution_count": 9,
   "metadata": {},
   "outputs": [
    {
     "name": "stdout",
     "output_type": "stream",
     "text": [
      "from solucao import concatenacao_com_tipo\n",
      "\n",
      "def test_concatenacao_com_tipo():\n",
      "    assert concatenacao_com_tipo('', '') == ''\n",
      "\n"
     ]
    }
   ],
   "source": [
    "!crosshair cover --example_output_format=pytest solucao.concatenacao_com_tipo"
   ]
  },
  {
   "cell_type": "code",
   "execution_count": 10,
   "metadata": {},
   "outputs": [
    {
     "name": "stdout",
     "output_type": "stream",
     "text": [
      "from solucao import concatenacao2\n",
      "\n",
      "def test_concatenacao2():\n",
      "    assert concatenacao2(0, 0) == 0\n",
      "\n"
     ]
    }
   ],
   "source": [
    "!crosshair cover --example_output_format=pytest solucao.concatenacao2"
   ]
  },
  {
   "cell_type": "code",
   "execution_count": 11,
   "metadata": {},
   "outputs": [
    {
     "name": "stdout",
     "output_type": "stream",
     "text": [
      "from solucao import concatenacao2_com_tipo\n",
      "\n",
      "def test_concatenacao2_com_tipo():\n",
      "    assert concatenacao2_com_tipo('', '') == ''\n",
      "\n"
     ]
    }
   ],
   "source": [
    "!crosshair cover --example_output_format=pytest solucao.concatenacao2_com_tipo"
   ]
  },
  {
   "cell_type": "code",
   "execution_count": 12,
   "metadata": {},
   "outputs": [
    {
     "name": "stdout",
     "output_type": "stream",
     "text": [
      "import pytest\n",
      "from solucao import concatenacao3\n",
      "\n",
      "def test_concatenacao3():\n",
      "    with pytest.raises(TypeError):\n",
      "        concatenacao3('', '')\n",
      "\n"
     ]
    }
   ],
   "source": [
    "!crosshair cover --example_output_format=pytest solucao.concatenacao3"
   ]
  },
  {
   "cell_type": "code",
   "execution_count": 13,
   "metadata": {},
   "outputs": [
    {
     "name": "stdout",
     "output_type": "stream",
     "text": [
      "from solucao import concatenacao3_com_tipo\n",
      "\n",
      "def test_concatenacao3_com_tipo():\n",
      "    assert concatenacao3_com_tipo('', '') == ''\n",
      "\n"
     ]
    }
   ],
   "source": [
    "!crosshair cover --example_output_format=pytest solucao.concatenacao3_com_tipo"
   ]
  },
  {
   "cell_type": "code",
   "execution_count": 14,
   "metadata": {},
   "outputs": [
    {
     "name": "stdout",
     "output_type": "stream",
     "text": [
      "from solucao import concatenacao4\n",
      "\n",
      "def test_concatenacao4():\n",
      "    assert concatenacao4('', '') == 'abba'\n",
      "\n"
     ]
    }
   ],
   "source": [
    "!crosshair cover --example_output_format=pytest solucao.concatenacao4"
   ]
  },
  {
   "cell_type": "code",
   "execution_count": 15,
   "metadata": {},
   "outputs": [
    {
     "name": "stdout",
     "output_type": "stream",
     "text": [
      "from solucao import concatenacao4_com_tipo\n",
      "\n",
      "def test_concatenacao4_com_tipo():\n",
      "    assert concatenacao4_com_tipo('', '') == 'abba'\n",
      "\n"
     ]
    }
   ],
   "source": [
    "!crosshair cover --example_output_format=pytest solucao.concatenacao4_com_tipo"
   ]
  },
  {
   "cell_type": "markdown",
   "metadata": {},
   "source": [
    "Pegando um Problema mais Complexo\n",
    "\n",
    "chapter__label:\n",
    "09 - Laços aninhados e matrizes\n",
    "id:\n",
    "836\n",
    "content:\n",
    "Suponha que os dados de funcionários de uma empresa sejam armazenados em uma matriz como a do exemplo a seguir:\n",
    "\n",
    "\n",
    "\n",
    "![Alt text](https://drive.google.com/uc?export=view&id=1oNMk-cPxqchioVW2S0krdIRrQnVM3swX)\n",
    "\n",
    "\n",
    "\n",
    "Cada linha da matriz tem quatro entradas, representando as informações referentes a nome, registro, setor e telefone de um funcionário, nesta ordem. O número de linhas depende da quantidade de funcionários. Todas as entradas da matriz estão em formato string.\n",
    "\n",
    "\n",
    "\n",
    "\n",
    "\n",
    "Escreva uma função chamada **busca** que receba uma matriz como a do exemplo e faça uma busca por setor, ou seja, dado um nome de um setor da empresa, a função retorna os dados de todos os funcionários daquele setor. Por exemplo:\n",
    "\n",
    "\n",
    "\n",
    ">>> busca(\"Contabilidade\", matriz)\n",
    "\n",
    "\n",
    "\n",
    ">>> [[‘Adalberto Ferreira’, ‘566’, ‘(21)84564-5248’],[‘Flavia Amorim’, ‘465’, ‘(21)2134-4845']]\n",
    "\n",
    "\n",
    "\n",
    "\n",
    "\n",
    "Se nenhum registro for encontrado, a função deverá retornar uma lista vazia.\n",
    "\n"
   ]
  },
  {
   "cell_type": "code",
   "execution_count": 16,
   "metadata": {},
   "outputs": [
    {
     "name": "stdout",
     "output_type": "stream",
     "text": [
      "import pytest\n",
      "from solucao import busca\n",
      "\n",
      "def test_busca():\n",
      "    with pytest.raises(IndexError):\n",
      "        busca('', '\\x00')\n",
      "\n",
      "def test_busca_2():\n",
      "    assert busca('', '') == []\n",
      "\n"
     ]
    }
   ],
   "source": [
    "!crosshair cover --example_output_format=pytest solucao.busca"
   ]
  },
  {
   "cell_type": "code",
   "execution_count": 17,
   "metadata": {},
   "outputs": [
    {
     "name": "stdout",
     "output_type": "stream",
     "text": [
      "from solucao import busca_com_tipo\n",
      "\n",
      "def test_busca_com_tipo():\n",
      "    assert busca_com_tipo('', [[], [0, 0, '', 0]]) == [[0, 0, '', 0], [0, 0, '', 0], [0, 0, '', 0], [0, 0, '', 0]]\n",
      "\n"
     ]
    }
   ],
   "source": [
    "!crosshair cover --example_output_format=pytest solucao.busca_com_tipo"
   ]
  },
  {
   "cell_type": "code",
   "execution_count": 18,
   "metadata": {},
   "outputs": [
    {
     "name": "stdout",
     "output_type": "stream",
     "text": [
      "from solucao import busca_com_tipo\n",
      "\n",
      "def test_busca_com_tipo():\n",
      "    assert busca_com_tipo('', [[], [0, 0, '', 0]]) == [[0, 0, '', 0], [0, 0, '', 0], [0, 0, '', 0], [0, 0, '', 0]]\n",
      "\n",
      "def test_busca_com_tipo_2():\n",
      "    assert busca_com_tipo('', []) == []\n",
      "\n",
      "def test_busca_com_tipo_3():\n",
      "    assert busca_com_tipo('', [[]]) == []\n",
      "\n",
      "def test_busca_com_tipo_4():\n",
      "    assert busca_com_tipo('\\x00', [[], ['', 0, []]]) == []\n",
      "\n",
      "def test_busca_com_tipo_5():\n",
      "    assert busca_com_tipo('', [[0, '', ''], [], []]) == [[0, '', ''], [0, '', ''], [0, '', '']]\n",
      "\n",
      "def test_busca_com_tipo_6():\n",
      "    assert busca_com_tipo('Tө\\u10c8ő', [[0, 0, '']]) == []\n",
      "\n"
     ]
    }
   ],
   "source": [
    "!crosshair cover --example_output_format=pytest --coverage_type=path solucao.busca_com_tipo"
   ]
  },
  {
   "cell_type": "code",
   "execution_count": 19,
   "metadata": {},
   "outputs": [],
   "source": [
    "def busca(setor,matriz):\n",
    "    '''funcao que dado o nome de um setor da empresa, retorna os dados de todos os funcionarios daquele setor\n",
    "    matriz->lista'''\n",
    "    listaresultados=[]\n",
    "    for i in range(len(matriz)):\n",
    "                   for j in range(len(matriz[i])):\n",
    "                        if matriz[i][2]==setor:\n",
    "                            listaresultados.append(matriz[i])\n",
    "    return listaresultados"
   ]
  },
  {
   "cell_type": "code",
   "execution_count": 20,
   "metadata": {},
   "outputs": [
    {
     "name": "stdout",
     "output_type": "stream",
     "text": [
      "[['Adalberto Ferreira', '566', 'Contabilidade', '(21)84564-5248'], ['Adalberto Ferreira', '566', 'Contabilidade', '(21)84564-5248'], ['Adalberto Ferreira', '566', 'Contabilidade', '(21)84564-5248'], ['Adalberto Ferreira', '566', 'Contabilidade', '(21)84564-5248'], ['Flavia Amorim', '465', 'Contabilidade', '(21)2134-4845'], ['Flavia Amorim', '465', 'Contabilidade', '(21)2134-4845'], ['Flavia Amorim', '465', 'Contabilidade', '(21)2134-4845'], ['Flavia Amorim', '465', 'Contabilidade', '(21)2134-4845']]\n",
      "[['Rafael Silva', '789', 'RH', '(21)5678-1234'], ['Rafael Silva', '789', 'RH', '(21)5678-1234'], ['Rafael Silva', '789', 'RH', '(21)5678-1234'], ['Rafael Silva', '789', 'RH', '(21)5678-1234']]\n",
      "[['Mariana Santos', '123', 'TI', '(21)9876-5432'], ['Mariana Santos', '123', 'TI', '(21)9876-5432'], ['Mariana Santos', '123', 'TI', '(21)9876-5432'], ['Mariana Santos', '123', 'TI', '(21)9876-5432'], ['João Pereira', '456', 'TI', '(21)5432-8765'], ['João Pereira', '456', 'TI', '(21)5432-8765'], ['João Pereira', '456', 'TI', '(21)5432-8765'], ['João Pereira', '456', 'TI', '(21)5432-8765']]\n",
      "[]\n",
      "[]\n",
      "[]\n",
      "[['Ana Silva', '789', 'RH', '(21)5678-1234'], ['Ana Silva', '789', 'RH', '(21)5678-1234'], ['Ana Silva', '789', 'RH', '(21)5678-1234'], ['Ana Silva', '789', 'RH', '(21)5678-1234']]\n"
     ]
    }
   ],
   "source": [
    "'''\n",
    "    Claro, vou criar alguns casos de teste para a função busca com base no problema que você descreveu. \n",
    "    Vou criar uma matriz de exemplo e, em seguida, listar alguns cenários de teste:\n",
    "'''\n",
    "\n",
    "matriz = [\n",
    "    ['Adalberto Ferreira', '566', 'Contabilidade', '(21)84564-5248'],\n",
    "    ['Flavia Amorim', '465', 'Contabilidade', '(21)2134-4845'],\n",
    "    ['Rafael Silva', '789', 'RH', '(21)5678-1234'],\n",
    "    ['Mariana Santos', '123', 'TI', '(21)9876-5432'],\n",
    "    ['João Pereira', '456', 'TI', '(21)5432-8765']\n",
    "]\n",
    "\n",
    "# Teste 1: Procurando por funcionários do setor \"Contabilidade\"\n",
    "resultado1 = busca(\"Contabilidade\", matriz)\n",
    "# Deve retornar:\n",
    "# [['Adalberto Ferreira', '566', 'Contabilidade', '(21)84564-5248'],\n",
    "#  ['Flavia Amorim', '465', 'Contabilidade', '(21)2134-4845']]\n",
    "\n",
    "# Teste 2: Procurando por funcionários do setor \"RH\"\n",
    "resultado2 = busca(\"RH\", matriz)\n",
    "# Deve retornar:\n",
    "# [['Rafael Silva', '789', 'RH', '(21)5678-1234']]\n",
    "\n",
    "# Teste 3: Procurando por funcionários do setor \"TI\"\n",
    "resultado3 = busca(\"TI\", matriz)\n",
    "# Deve retornar:\n",
    "# [['Mariana Santos', '123', 'TI', '(21)9876-5432'],\n",
    "#  ['João Pereira', '456', 'TI', '(21)5432-8765']]\n",
    "\n",
    "# Teste 4: Procurando por funcionários do setor \"Vendas\" (setor inexistente)\n",
    "resultado4 = busca(\"Vendas\", matriz)\n",
    "# Deve retornar uma lista vazia: []\n",
    "\n",
    "# Teste 5: Procurando por funcionários do setor vazio\n",
    "resultado5 = busca(\"\", matriz)\n",
    "# Deve retornar uma lista vazia: []\n",
    "\n",
    "# Teste 6: Procurando por funcionários em uma matriz vazia\n",
    "resultado6 = busca(\"RH\", [])\n",
    "# Deve retornar uma lista vazia: []\n",
    "\n",
    "# Teste 7: Procurando por funcionários em uma matriz com um único funcionário\n",
    "matriz_single = [['Ana Silva', '789', 'RH', '(21)5678-1234']]\n",
    "resultado7 = busca(\"RH\", matriz_single)\n",
    "# Deve retornar:\n",
    "# [['Ana Silva', '789', 'RH', '(21)5678-1234']]\n",
    "\n",
    "print(resultado1)\n",
    "print(resultado2)\n",
    "print(resultado3)\n",
    "print(resultado4)\n",
    "print(resultado5)\n",
    "print(resultado6)\n",
    "print(resultado7)"
   ]
  },
  {
   "cell_type": "code",
   "execution_count": 21,
   "metadata": {},
   "outputs": [
    {
     "ename": "ModuleNotFoundError",
     "evalue": "No module named 'pytest'",
     "output_type": "error",
     "traceback": [
      "\u001b[1;31m---------------------------------------------------------------------------\u001b[0m",
      "\u001b[1;31mModuleNotFoundError\u001b[0m                       Traceback (most recent call last)",
      "\u001b[1;32mc:\\Users\\thier\\TCC\\teste.ipynb Cell 23\u001b[0m in \u001b[0;36m1\n\u001b[1;32m----> <a href='vscode-notebook-cell:/c%3A/Users/thier/TCC/teste.ipynb#X31sZmlsZQ%3D%3D?line=0'>1</a>\u001b[0m \u001b[39mimport\u001b[39;00m \u001b[39mpytest\u001b[39;00m\n\u001b[0;32m      <a href='vscode-notebook-cell:/c%3A/Users/thier/TCC/teste.ipynb#X31sZmlsZQ%3D%3D?line=2'>3</a>\u001b[0m \u001b[39m# A função busca deve ser definida previamente\u001b[39;00m\n\u001b[0;32m      <a href='vscode-notebook-cell:/c%3A/Users/thier/TCC/teste.ipynb#X31sZmlsZQ%3D%3D?line=3'>4</a>\u001b[0m \u001b[39mdef\u001b[39;00m \u001b[39mbusca\u001b[39m(setor, matriz):\n\u001b[0;32m      <a href='vscode-notebook-cell:/c%3A/Users/thier/TCC/teste.ipynb#X31sZmlsZQ%3D%3D?line=4'>5</a>\u001b[0m     \u001b[39m# Implemente a função busca aqui\u001b[39;00m\n",
      "\u001b[1;31mModuleNotFoundError\u001b[0m: No module named 'pytest'"
     ]
    }
   ],
   "source": [
    "import pytest\n",
    "\n",
    "# A função busca deve ser definida previamente\n",
    "def busca(setor, matriz):\n",
    "    # Implemente a função busca aqui\n",
    "    pass\n",
    "\n",
    "# Caso de teste para funcionários em um setor existente\n",
    "def test_busca_setor_existente():\n",
    "    matriz = [\n",
    "        ['Adalberto Ferreira', '566', 'Contabilidade', '(21)84564-5248'],\n",
    "        ['Flavia Amorim', '465', 'Contabilidade', '(21)2134-4845'],\n",
    "        ['Rafael Silva', '789', 'RH', '(21)5678-1234'],\n",
    "        ['Mariana Santos', '123', 'TI', '(21)9876-5432'],\n",
    "        ['João Pereira', '456', 'TI', '(21)5432-8765']\n",
    "    ]\n",
    "    \n",
    "    resultado = busca(\"Contabilidade\", matriz)\n",
    "    \n",
    "    assert resultado == [['Adalberto Ferreira', '566', 'Contabilidade', '(21)84564-5248'],\n",
    "                         ['Flavia Amorim', '465', 'Contabilidade', '(21)2134-4845']]\n",
    "\n",
    "# Caso de teste para funcionários em um setor inexistente\n",
    "def test_busca_setor_inexistente():\n",
    "    matriz = [\n",
    "        ['Adalberto Ferreira', '566', 'Contabilidade', '(21)84564-5248'],\n",
    "        ['Flavia Amorim', '465', 'Contabilidade', '(21)2134-4845'],\n",
    "        ['Rafael Silva', '789', 'RH', '(21)5678-1234'],\n",
    "        ['Mariana Santos', '123', 'TI', '(21)9876-5432'],\n",
    "        ['João Pereira', '456', 'TI', '(21)5432-8765']\n",
    "    ]\n",
    "    \n",
    "    resultado = busca(\"Vendas\", matriz)\n",
    "    \n",
    "    assert resultado == []\n",
    "\n",
    "# Caso de teste para funcionários em um setor vazio\n",
    "def test_busca_setor_vazio():\n",
    "    matriz = [\n",
    "        ['Adalberto Ferreira', '566', '', '(21)84564-5248'],\n",
    "        ['Flavia Amorim', '465', '', '(21)2134-4845'],\n",
    "        ['Rafael Silva', '789', '', '(21)5678-1234'],\n",
    "        ['Mariana Santos', '123', '', '(21)9876-5432'],\n",
    "        ['João Pereira', '456', '', '(21)5432-8765']\n",
    "    ]\n",
    "    \n",
    "    resultado = busca(\"\", matriz)\n",
    "    \n",
    "    assert resultado == []\n",
    "\n",
    "# Caso de teste para funcionários em uma matriz vazia\n",
    "def test_busca_matriz_vazia():\n",
    "    matriz = []\n",
    "    \n",
    "    resultado = busca(\"Contabilidade\", matriz)\n",
    "    \n",
    "    assert resultado == []\n",
    "\n",
    "# Caso de teste para funcionários em uma matriz com um único funcionário\n",
    "def test_busca_matriz_unica():\n",
    "    matriz = [['Ana Silva', '789', 'RH', '(21)5678-1234']]\n",
    "    \n",
    "    resultado = busca(\"RH\", matriz)\n",
    "    \n",
    "    assert resultado == [['Ana Silva', '789', 'RH', '(21)5678-1234']]\n",
    "\n",
    "if __name__ == \"__main__\":\n",
    "    pytest.main()"
   ]
  }
 ],
 "metadata": {
  "kernelspec": {
   "display_name": "Python 3",
   "language": "python",
   "name": "python3"
  },
  "language_info": {
   "codemirror_mode": {
    "name": "ipython",
    "version": 3
   },
   "file_extension": ".py",
   "mimetype": "text/x-python",
   "name": "python",
   "nbconvert_exporter": "python",
   "pygments_lexer": "ipython3",
   "version": "3.9.13"
  },
  "orig_nbformat": 4
 },
 "nbformat": 4,
 "nbformat_minor": 2
}
