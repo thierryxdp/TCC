{
 "cells": [
  {
   "cell_type": "code",
   "execution_count": 1,
   "metadata": {},
   "outputs": [
    {
     "name": "stdout",
     "output_type": "stream",
     "text": [
      "Collecting crosshair-tool\n",
      "  Downloading crosshair_tool-0.0.39-cp39-cp39-win_amd64.whl (385 kB)\n",
      "     -------------------------------------- 385.4/385.4 kB 8.0 MB/s eta 0:00:00\n",
      "Collecting z3-solver==4.11.2.0\n",
      "  Downloading z3_solver-4.11.2.0-py2.py3-none-win_amd64.whl (56.2 MB)\n",
      "     ---------------------------------------- 56.2/56.2 MB 3.1 MB/s eta 0:00:00\n",
      "Collecting pygls>=1.0.0\n",
      "  Downloading pygls-1.0.2-py3-none-any.whl (38 kB)\n",
      "Requirement already satisfied: typing-extensions>=3.10.0 in c:\\users\\thier\\appdata\\local\\packages\\pythonsoftwarefoundation.python.3.9_qbz5n2kfra8p0\\localcache\\local-packages\\python39\\site-packages (from crosshair-tool) (4.4.0)\n",
      "Collecting typing-inspect>=0.7.1\n",
      "  Downloading typing_inspect-0.9.0-py3-none-any.whl (8.8 kB)\n",
      "Requirement already satisfied: packaging in c:\\users\\thier\\appdata\\local\\packages\\pythonsoftwarefoundation.python.3.9_qbz5n2kfra8p0\\localcache\\local-packages\\python39\\site-packages (from crosshair-tool) (21.3)\n",
      "Collecting typeshed-client>=2.0.5\n",
      "  Downloading typeshed_client-2.3.0-py3-none-any.whl (581 kB)\n",
      "     ------------------------------------- 581.6/581.6 kB 18.4 MB/s eta 0:00:00\n",
      "Requirement already satisfied: importlib-metadata>=4.0.0 in c:\\users\\thier\\appdata\\local\\packages\\pythonsoftwarefoundation.python.3.9_qbz5n2kfra8p0\\localcache\\local-packages\\python39\\site-packages (from crosshair-tool) (5.0.0)\n",
      "Requirement already satisfied: zipp>=0.5 in c:\\users\\thier\\appdata\\local\\packages\\pythonsoftwarefoundation.python.3.9_qbz5n2kfra8p0\\localcache\\local-packages\\python39\\site-packages (from importlib-metadata>=4.0.0->crosshair-tool) (3.10.0)\n",
      "Collecting lsprotocol\n",
      "  Downloading lsprotocol-2023.0.0a3-py3-none-any.whl (70 kB)\n",
      "     ---------------------------------------- 70.3/70.3 kB 3.8 MB/s eta 0:00:00\n",
      "Collecting typeguard<4,>=3\n",
      "  Downloading typeguard-3.0.2-py3-none-any.whl (30 kB)\n",
      "Requirement already satisfied: importlib-resources>=1.4.0 in c:\\users\\thier\\appdata\\local\\packages\\pythonsoftwarefoundation.python.3.9_qbz5n2kfra8p0\\localcache\\local-packages\\python39\\site-packages (from typeshed-client>=2.0.5->crosshair-tool) (5.12.0)\n",
      "Collecting mypy-extensions>=0.3.0\n",
      "  Downloading mypy_extensions-1.0.0-py3-none-any.whl (4.7 kB)\n",
      "Requirement already satisfied: pyparsing!=3.0.5,>=2.0.2 in c:\\users\\thier\\appdata\\local\\packages\\pythonsoftwarefoundation.python.3.9_qbz5n2kfra8p0\\localcache\\local-packages\\python39\\site-packages (from packaging->crosshair-tool) (3.0.9)\n",
      "Collecting cattrs\n",
      "  Downloading cattrs-23.1.2-py3-none-any.whl (50 kB)\n",
      "     ---------------------------------------- 50.8/50.8 kB ? eta 0:00:00\n",
      "Requirement already satisfied: attrs>=21.3.0 in c:\\users\\thier\\appdata\\local\\packages\\pythonsoftwarefoundation.python.3.9_qbz5n2kfra8p0\\localcache\\local-packages\\python39\\site-packages (from lsprotocol->pygls>=1.0.0->crosshair-tool) (23.1.0)\n",
      "Collecting exceptiongroup\n",
      "  Downloading exceptiongroup-1.1.3-py3-none-any.whl (14 kB)\n",
      "Installing collected packages: z3-solver, mypy-extensions, exceptiongroup, typing-inspect, typeshed-client, typeguard, cattrs, lsprotocol, pygls, crosshair-tool\n",
      "Successfully installed cattrs-23.1.2 crosshair-tool-0.0.39 exceptiongroup-1.1.3 lsprotocol-2023.0.0a3 mypy-extensions-1.0.0 pygls-1.0.2 typeguard-3.0.2 typeshed-client-2.3.0 typing-inspect-0.9.0 z3-solver-4.11.2.0\n",
      "Note: you may need to restart the kernel to use updated packages.\n"
     ]
    },
    {
     "name": "stderr",
     "output_type": "stream",
     "text": [
      "\n",
      "[notice] A new release of pip available: 22.3.1 -> 23.2.1\n",
      "[notice] To update, run: C:\\Users\\thier\\AppData\\Local\\Microsoft\\WindowsApps\\PythonSoftwareFoundation.Python.3.9_qbz5n2kfra8p0\\python.exe -m pip install --upgrade pip\n"
     ]
    }
   ],
   "source": [
    "pip install crosshair-tool"
   ]
  },
  {
   "cell_type": "code",
   "execution_count": 5,
   "metadata": {},
   "outputs": [
    {
     "name": "stderr",
     "output_type": "stream",
     "text": [
      "Unable to load \"average\": NotFound: Module 'average' was not found\n"
     ]
    }
   ],
   "source": [
    "!cat foo.py\n",
    "!crosshair cover foo.average"
   ]
  }
 ],
 "metadata": {
  "kernelspec": {
   "display_name": "Python 3",
   "language": "python",
   "name": "python3"
  },
  "language_info": {
   "codemirror_mode": {
    "name": "ipython",
    "version": 3
   },
   "file_extension": ".py",
   "mimetype": "text/x-python",
   "name": "python",
   "nbconvert_exporter": "python",
   "pygments_lexer": "ipython3",
   "version": "3.9.13"
  },
  "orig_nbformat": 4
 },
 "nbformat": 4,
 "nbformat_minor": 2
}
