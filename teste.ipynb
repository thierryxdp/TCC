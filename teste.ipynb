{
 "cells": [
  {
   "cell_type": "markdown",
   "metadata": {},
   "source": [
    "Crosshair: https://crosshair.readthedocs.io/en/latest/cover.html"
   ]
  },
  {
   "cell_type": "code",
   "execution_count": 45,
   "metadata": {},
   "outputs": [],
   "source": [
    "#pip install crosshair-tool\n",
    "#!pip install tqdm"
   ]
  },
  {
   "cell_type": "code",
   "execution_count": 46,
   "metadata": {},
   "outputs": [],
   "source": [
    "result = !crosshair cover foo.average"
   ]
  },
  {
   "cell_type": "code",
   "execution_count": 47,
   "metadata": {},
   "outputs": [
    {
     "name": "stdout",
     "output_type": "stream",
     "text": [
      "average([0.0, 0.0], default = None)\n",
      "average([], default = None)\n",
      "average([], default = 0.0)\n"
     ]
    }
   ],
   "source": [
    "for line in result:\n",
    "    print(line)"
   ]
  },
  {
   "cell_type": "code",
   "execution_count": 48,
   "metadata": {},
   "outputs": [],
   "source": [
    "result = !crosshair cover --example_output_format=pytest foo.average"
   ]
  },
  {
   "cell_type": "code",
   "execution_count": 49,
   "metadata": {},
   "outputs": [
    {
     "name": "stdout",
     "output_type": "stream",
     "text": [
      "import pytest\n",
      "from foo import average\n",
      "\n",
      "def test_average():\n",
      "    assert average([0.0, 0.0], default = None) == 0.0\n",
      "\n",
      "def test_average_2():\n",
      "    with pytest.raises(ValueError):\n",
      "        average([], default = None)\n",
      "\n",
      "def test_average_3():\n",
      "    assert average([], default = 0.0) == 0.0\n",
      "\n"
     ]
    }
   ],
   "source": [
    "for line in result:\n",
    "    print(line)"
   ]
  },
  {
   "cell_type": "code",
   "execution_count": 50,
   "metadata": {},
   "outputs": [],
   "source": [
    "#!python3 depickle_problems.py"
   ]
  },
  {
   "cell_type": "code",
   "execution_count": 51,
   "metadata": {},
   "outputs": [],
   "source": [
    "#!python3 depickle_solutions.py"
   ]
  },
  {
   "cell_type": "code",
   "execution_count": 52,
   "metadata": {},
   "outputs": [
    {
     "name": "stdout",
     "output_type": "stream",
     "text": [
      "from solucao import concatenacao\n",
      "\n",
      "def test_concatenacao():\n",
      "    assert concatenacao('', 0) == '00'\n",
      "\n"
     ]
    }
   ],
   "source": [
    "!crosshair cover --example_output_format=pytest solucao.concatenacao"
   ]
  },
  {
   "cell_type": "code",
   "execution_count": 53,
   "metadata": {},
   "outputs": [
    {
     "name": "stdout",
     "output_type": "stream",
     "text": [
      "from solucao import concatenacao_com_tipo\n",
      "\n",
      "def test_concatenacao_com_tipo():\n",
      "    assert concatenacao_com_tipo('', '') == ''\n",
      "\n"
     ]
    }
   ],
   "source": [
    "!crosshair cover --example_output_format=pytest solucao.concatenacao_com_tipo"
   ]
  },
  {
   "cell_type": "code",
   "execution_count": 54,
   "metadata": {},
   "outputs": [
    {
     "name": "stdout",
     "output_type": "stream",
     "text": [
      "from solucao import concatenacao2\n",
      "\n",
      "def test_concatenacao2():\n",
      "    assert concatenacao2(0, 0) == 0\n",
      "\n"
     ]
    }
   ],
   "source": [
    "!crosshair cover --example_output_format=pytest solucao.concatenacao2"
   ]
  },
  {
   "cell_type": "code",
   "execution_count": 55,
   "metadata": {},
   "outputs": [
    {
     "name": "stdout",
     "output_type": "stream",
     "text": [
      "from solucao import concatenacao2_com_tipo\n",
      "\n",
      "def test_concatenacao2_com_tipo():\n",
      "    assert concatenacao2_com_tipo('', '') == ''\n",
      "\n"
     ]
    }
   ],
   "source": [
    "!crosshair cover --example_output_format=pytest solucao.concatenacao2_com_tipo"
   ]
  },
  {
   "cell_type": "code",
   "execution_count": 56,
   "metadata": {},
   "outputs": [
    {
     "name": "stdout",
     "output_type": "stream",
     "text": [
      "import pytest\n",
      "from solucao import concatenacao3\n",
      "\n",
      "def test_concatenacao3():\n",
      "    with pytest.raises(TypeError):\n",
      "        concatenacao3('', '')\n",
      "\n"
     ]
    }
   ],
   "source": [
    "!crosshair cover --example_output_format=pytest solucao.concatenacao3"
   ]
  },
  {
   "cell_type": "code",
   "execution_count": 57,
   "metadata": {},
   "outputs": [
    {
     "name": "stdout",
     "output_type": "stream",
     "text": [
      "from solucao import concatenacao3_com_tipo\n",
      "\n",
      "def test_concatenacao3_com_tipo():\n",
      "    assert concatenacao3_com_tipo('', '') == ''\n",
      "\n"
     ]
    }
   ],
   "source": [
    "!crosshair cover --example_output_format=pytest solucao.concatenacao3_com_tipo"
   ]
  },
  {
   "cell_type": "code",
   "execution_count": 58,
   "metadata": {},
   "outputs": [
    {
     "name": "stdout",
     "output_type": "stream",
     "text": [
      "from solucao import concatenacao4\n",
      "\n",
      "def test_concatenacao4():\n",
      "    assert concatenacao4('', '') == 'abba'\n",
      "\n"
     ]
    }
   ],
   "source": [
    "!crosshair cover --example_output_format=pytest solucao.concatenacao4"
   ]
  },
  {
   "cell_type": "code",
   "execution_count": 59,
   "metadata": {},
   "outputs": [
    {
     "name": "stdout",
     "output_type": "stream",
     "text": [
      "from solucao import concatenacao4_com_tipo\n",
      "\n",
      "def test_concatenacao4_com_tipo():\n",
      "    assert concatenacao4_com_tipo('', '') == 'abba'\n",
      "\n"
     ]
    }
   ],
   "source": [
    "!crosshair cover --example_output_format=pytest solucao.concatenacao4_com_tipo"
   ]
  }
 ],
 "metadata": {
  "kernelspec": {
   "display_name": "Python 3",
   "language": "python",
   "name": "python3"
  },
  "language_info": {
   "codemirror_mode": {
    "name": "ipython",
    "version": 3
   },
   "file_extension": ".py",
   "mimetype": "text/x-python",
   "name": "python",
   "nbconvert_exporter": "python",
   "pygments_lexer": "ipython3",
   "version": "3.9.13"
  },
  "orig_nbformat": 4
 },
 "nbformat": 4,
 "nbformat_minor": 2
}
